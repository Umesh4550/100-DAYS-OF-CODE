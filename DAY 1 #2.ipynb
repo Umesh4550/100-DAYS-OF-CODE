{
 "cells": [
  {
   "cell_type": "markdown",
   "metadata": {},
   "source": [
    "If an Integer N, write a program to reverse the given number.\n",
    "\n",
    "Input\n",
    "The first line contains an integer T, total number of testcases. Then follow T lines, each line contains an integer N.\n",
    "\n",
    "Output\n",
    "Display the reverse of the given number N.\n",
    "\n",
    "Constraints\n",
    "1 ≤ T ≤ 1000\n",
    "1 ≤ N ≤ 1000000\n",
    "Example\n",
    "Input\n",
    "4\n",
    "12345\n",
    "31203\n",
    "2123\n",
    "2300\n",
    "\n",
    "Output\n",
    "54321\n",
    "30213\n",
    "3212\n",
    "32"
   ]
  },
  {
   "cell_type": "code",
   "execution_count": null,
   "metadata": {},
   "outputs": [],
   "source": [
    "T = int(input())\n",
    "for i in range(T):\n",
    "    Reverse = 0    \n",
    "    N = int(input())\n",
    "    while(N > 0):    \n",
    "        Reminder = N %10    \n",
    "        Reverse = (Reverse *10) + Reminder    \n",
    "        N = N //10    \n",
    "    print(Reverse,\"\\n\") \n"
   ]
  }
 ],
 "metadata": {
  "kernelspec": {
   "display_name": "Python 3",
   "language": "python",
   "name": "python3"
  },
  "language_info": {
   "codemirror_mode": {
    "name": "ipython",
    "version": 3
   },
   "file_extension": ".py",
   "mimetype": "text/x-python",
   "name": "python",
   "nbconvert_exporter": "python",
   "pygments_lexer": "ipython3",
   "version": "3.7.6"
  }
 },
 "nbformat": 4,
 "nbformat_minor": 4
}

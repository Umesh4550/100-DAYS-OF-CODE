{
 "cells": [
  {
   "cell_type": "markdown",
   "metadata": {},
   "source": [
    "Big Bang was the Beginning of the\n",
    "Universe.Adam and Eve are a symbol\n",
    "for Beginning of Life.Can you find the\n",
    "beginning of the life of programmer?\n",
    "\n",
    "Input\n",
    "First line contains an integer T,the\n",
    "number of test cases.The description\n",
    "of test cases follow.\n",
    "First line of each test case contains a\n",
    "string\n",
    "\n",
    "Output\n",
    "For each testcase,output in a single\n",
    "line\"Yes\"without quotes if the string\n",
    "corresponds to the beginning of\n",
    "programmer,else output\"No\"in a\n",
    "single line without quotes\n",
    "\n",
    "Constraints\n",
    "1<=T<=5.109\n",
    "1<=8 s where ls is length of sand\n",
    "sconsists lower case english letters\n",
    "\n",
    "Sample Input\n",
    "4\n",
    "asdfghjkli\n",
    "ldrwolloeh\n",
    "qwertyuiop\n",
    "axcvbnmzxC\n",
    "\n",
    "Sample Output\n",
    "No\n",
    "Yes\n",
    "No\n",
    "No"
   ]
  },
  {
   "cell_type": "code",
   "execution_count": null,
   "metadata": {},
   "outputs": [],
   "source": [
    "test_case = int(input())\n",
    "\n",
    "str1 =\"helloworld\"\n",
    "for i in range(test_case):\n",
    "    str2 = str(input())\n",
    "    if len(str1) == len(str2):\n",
    "        if sorted(str1) == sorted(str2):\n",
    "            print(\"YES\\n \")\n",
    "        else:\n",
    "            print(\"NO\\n\")\n",
    "    else:\n",
    "        print(\"NO\\n\")"
   ]
  }
 ],
 "metadata": {
  "kernelspec": {
   "display_name": "Python 3",
   "language": "python",
   "name": "python3"
  },
  "language_info": {
   "codemirror_mode": {
    "name": "ipython",
    "version": 3
   },
   "file_extension": ".py",
   "mimetype": "text/x-python",
   "name": "python",
   "nbconvert_exporter": "python",
   "pygments_lexer": "ipython3",
   "version": "3.7.6"
  }
 },
 "nbformat": 4,
 "nbformat_minor": 4
}

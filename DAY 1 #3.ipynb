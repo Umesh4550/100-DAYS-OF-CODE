{
 "cells": [
  {
   "cell_type": "code",
   "execution_count": null,
   "metadata": {},
   "outputs": [],
   "source": [
    "test_case = int(input())\n",
    "\n",
    "str1 =\"helloworld\"\n",
    "for i in range(test_case):\n",
    "    str2 = str(input())\n",
    "    if len(str1) == len(str2):\n",
    "        if sorted(str1) == sorted(str2):\n",
    "            print(\"YES\\n \")\n",
    "        else:\n",
    "            print(\"NO\\n\")\n",
    "    else:\n",
    "        print(\"NO\\n\")"
   ]
  },
  {
   "cell_type": "code",
   "execution_count": null,
   "metadata": {},
   "outputs": [],
   "source": []
  }
 ],
 "metadata": {
  "kernelspec": {
   "display_name": "Python 3",
   "language": "python",
   "name": "python3"
  },
  "language_info": {
   "codemirror_mode": {
    "name": "ipython",
    "version": 3
   },
   "file_extension": ".py",
   "mimetype": "text/x-python",
   "name": "python",
   "nbconvert_exporter": "python",
   "pygments_lexer": "ipython3",
   "version": "3.7.6"
  }
 },
 "nbformat": 4,
 "nbformat_minor": 4
}

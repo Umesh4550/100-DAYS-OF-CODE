{
 "cells": [
  {
   "cell_type": "markdown",
   "metadata": {},
   "source": [
    "Lapindrome is defined as a string which when split in the middle, gives two halves having the same characters and same frequency of each character. If there are odd number of characters in the string, we ignore the middle character and check for lapindrome. For example gaga is a lapindrome, since the two halves ga and ga have the same characters with same frequency. Also, abccab, rotor and xyzxy are a few examples of lapindromes. Note that abbaab is NOT a lapindrome. The two halves contain the same characters but their frequencies do not match.\n",
    "Your task is simple. Given a string, you need to tell if it is a lapindrome.\n",
    "\n",
    "Input:\n",
    "First line of input contains a single integer T, the number of test cases.\n",
    "Each test is a single line containing a string S composed of only lowercase English alphabet.\n",
    "Output:\n",
    "For each test case, output on a separate line: \"YES\" if the string is a lapindrome and \"NO\" if it is not.\n",
    "\n",
    "Constraints:\n",
    "\n",
    "1 ≤ T ≤ 100\n",
    "\n",
    "2 ≤ |S| ≤ 1000, where |S| denotes the length of S.\n",
    "\n",
    "Example:\n",
    "\n",
    "Input:\n",
    "6\n",
    "\n",
    "gaga\n",
    "\n",
    "abcde\n",
    "\n",
    "rotor\n",
    "\n",
    "xyzxy\n",
    "\n",
    "abbaab\n",
    "\n",
    "ababc\n",
    "\n",
    "\n",
    "Output:\n",
    "\n",
    "YES\n",
    "\n",
    "NO\n",
    "\n",
    "YES\n",
    "\n",
    "YES\n",
    "\n",
    "NO\n",
    "\n",
    "NO\n"
   ]
  },
  {
   "cell_type": "code",
   "execution_count": null,
   "metadata": {},
   "outputs": [],
   "source": [
    "T=int(input())\n",
    "for i in range(T):\n",
    "    s1,s2='',''\n",
    "    S = str(input())\n",
    "    if(len(S)%2==0):\n",
    "        S1=S[:len(S)//2] \n",
    "        S2=S[len(S)//2:]\n",
    "    else: \n",
    "        S1=S[:len(S)//2]\n",
    "        S2=S[len(S)//2+1:]\n",
    "    S1=sorted(S1)\n",
    "    S2=sorted(S2)\n",
    "    if(S1==S2):\n",
    "        print('YES')\n",
    "    else: \n",
    "        print('NO')"
   ]
  }
 ],
 "metadata": {
  "kernelspec": {
   "display_name": "Python 3",
   "language": "python",
   "name": "python3"
  },
  "language_info": {
   "codemirror_mode": {
    "name": "ipython",
    "version": 3
   },
   "file_extension": ".py",
   "mimetype": "text/x-python",
   "name": "python",
   "nbconvert_exporter": "python",
   "pygments_lexer": "ipython3",
   "version": "3.7.6"
  }
 },
 "nbformat": 4,
 "nbformat_minor": 4
}

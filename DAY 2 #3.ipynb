{
 "cells": [
  {
   "cell_type": "markdown",
   "metadata": {},
   "source": [
    "There were two friends lvanka and lshank,one day they decided to go on a adventure \n",
    "trip in forest.They were feeling exhilarated while exploring the beauty of nature,and to \n",
    "face some challenging task.When they were roaming they reached at the mid of deep \n",
    "forest,they found they were lost in dense part of forest.In the dense forest darkness was \n",
    "covering the whole forest.They both frightened and started to finding the way to go \n",
    "outside from the jungle.They meet with a guy named shivank.He gave them a map and \n",
    "told them to apply some codes,which were written in the map when they reached to the \n",
    "place mentioned in the map.After a long discussion they find out that codes were written in \n",
    "Hexadecimal.But they didn't know how to convert them into decimal.Without converting \n",
    "them into decimal they can't apply the codes on that place.Now help lvanka and ishank to \n",
    "come out from the forest."
   ]
  },
  {
   "cell_type": "code",
   "execution_count": null,
   "metadata": {},
   "outputs": [],
   "source": [
    "N = int( input() )\n",
    "for i in range(N):\n",
    "    x = str(input())\n",
    "    y=int(x,16)\n",
    "    print(y)"
   ]
  }
 ],
 "metadata": {
  "kernelspec": {
   "display_name": "Python 3",
   "language": "python",
   "name": "python3"
  },
  "language_info": {
   "codemirror_mode": {
    "name": "ipython",
    "version": 3
   },
   "file_extension": ".py",
   "mimetype": "text/x-python",
   "name": "python",
   "nbconvert_exporter": "python",
   "pygments_lexer": "ipython3",
   "version": "3.7.6"
  }
 },
 "nbformat": 4,
 "nbformat_minor": 4
}

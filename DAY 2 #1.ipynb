{
 "cells": [
  {
   "cell_type": "markdown",
   "metadata": {},
   "source": [
    "Most problems on CodeChef highlight chef's love for food and cooking but little is known about his love for racing sports. He is an avid Formula 1 fan. He went to watch this year's Indian Grand Prix at New Delhi. He noticed that one segment of the circuit was a long straight road. It was impossible for a car to overtake other cars on this segment. Therefore, a car had to lower down its speed if there was a slower car in front of it. While watching the race, Chef started to wonder how many cars were moving at their maximum speed.\n",
    "\n",
    "Formally, you're given the maximum speed of N cars in the order they entered the long straight segment of the circuit. Each car prefers to move at its maximum speed. If that's not possible because of the front car being slow, it might have to lower its speed. It still moves at the fastest possible speed while avoiding any collisions. For the purpose of this problem, you can assume that the straight segment is infinitely long.\n",
    "\n",
    "Count the number of cars which were moving at their maximum speed on the straight segment.\n",
    "\n",
    "Input\n",
    "The first line of the input contains a single integer T denoting the number of test cases to follow. Description of each test case contains 2 lines. The first of these lines contain a single integer N, the number of cars. The second line contains N space separated integers, denoting the maximum speed of the cars in the order they entered the long straight segment.\n",
    "\n",
    "Output\n",
    "For each test case, output a single line containing the number of cars which were moving at their maximum speed on the segment.\n",
    "\n",
    "Example\n",
    "Input:\n",
    "\n",
    "3\n",
    "\n",
    "1\n",
    "\n",
    "10\n",
    "\n",
    "3\n",
    "\n",
    "8 3 6\n",
    "\n",
    "5\n",
    "\n",
    "4 5 1 2 3\n",
    "\n",
    "Output:\n",
    "\n",
    "1\n",
    "\n",
    "2\n",
    "\n",
    "2\n",
    "\n",
    "Constraints\n",
    "\n",
    "1 ≤ T ≤ 100\n",
    "\n",
    "1 ≤ N ≤ 10,000\n",
    "\n",
    "All speeds are distinct positive integers that fit in a 32 bit signed integer.\n",
    "Each input file will not be larger than 4 MB (4,000,000,000 bytes) in size."
   ]
  },
  {
   "cell_type": "code",
   "execution_count": null,
   "metadata": {},
   "outputs": [],
   "source": [
    "    t = int( input() )\n",
    "    for _ in range(t):\n",
    "        n = int( input() )\n",
    "        speed = list( map( int, input().split() ) )\n",
    "    \n",
    "        count = 1\n",
    "        for i in range(len(speed) - 1 ):\n",
    "            if(speed[i] < speed[i + 1]):\n",
    "                speed[i + 1] = speed[i]\n",
    "            else:\n",
    "                count += 1\n",
    "    \n",
    "        print(count,\"\\n\")"
   ]
  }
 ],
 "metadata": {
  "kernelspec": {
   "display_name": "Python 3",
   "language": "python",
   "name": "python3"
  },
  "language_info": {
   "codemirror_mode": {
    "name": "ipython",
    "version": 3
   },
   "file_extension": ".py",
   "mimetype": "text/x-python",
   "name": "python",
   "nbconvert_exporter": "python",
   "pygments_lexer": "ipython3",
   "version": "3.7.6"
  }
 },
 "nbformat": 4,
 "nbformat_minor": 4
}

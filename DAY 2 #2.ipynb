{
 "cells": [
  {
   "cell_type": "markdown",
   "metadata": {},
   "source": [
    " Indian army is going to do a surprise attack on one of its enemies country. The President of India, the Supreme Commander of the Indian Army will be sending an alert message to all its commanding centers. As enemy would be monitoring the message, Indian army is going to encrypt(cipher) the message using basic encryption technique. A decoding key 'K' (number) would be sent secretly.\n",
    "\n",
    "You are assigned to develop a cipher program to encrypt the message. Your cipher must rotate every character in the message by a fixed number making it unreadable by enemies.\n",
    "\n",
    "Given a single line of string 'S' containing alpha, numeric and symbols, followed by a number '0<=N<=1000'. Encrypt and print the resulting string.\n",
    "\n",
    "Note: The cipher only encrypts Alpha and Numeric. (A-Z, a-z, and 0-9) . \n",
    "\n",
    "All Symbols, such as - , ; %, remain unencrypted.\n",
    "\n",
    "SAMPLE INPUT \n",
    "\n",
    "All-convoYs-9-be:Alert1.\n",
    "\n",
    "4\n",
    "SAMPLE OUTPUT \n",
    "\n",
    "Epp-gsrzsCw-3-fi:Epivx5."
   ]
  },
  {
   "cell_type": "code",
   "execution_count": null,
   "metadata": {},
   "outputs": [],
   "source": [
    "def encrypt(text,s): \n",
    "    result = \"\" \n",
    "    \n",
    "    for i in range(len(text)): \n",
    "        char = text[i] \n",
    "   \n",
    "        if (char.isupper()): \n",
    "            result += chr((ord(char) + s-65) % 26 + 65)\n",
    "  \n",
    "        elif(char.islower()): \n",
    "            result += chr((ord(char) + s - 97) % 26 + 97) \n",
    "        \n",
    "        elif 48 <= ord(char) <= 57:\n",
    "            if ord(char)+s > 57:\n",
    "                result = result + chr(ord(char)+s-48)\n",
    "            else:\n",
    "                result = result + chr(ord(char)+s)\n",
    "        \n",
    "        else:\n",
    "            result = result + char  \n",
    "    \n",
    "    return result \n",
    "  \n",
    "\n",
    "text = input()\n",
    "s = int(input())\n",
    "Number = [0,1,2,3,4,5,6,7,8,9]\n",
    "print (\"Text  : \" + text) \n",
    "print (\"Shift : \" + str(s)) \n",
    "print (\"Cipher: \" + encrypt(text,s)) "
   ]
  }
 ],
 "metadata": {
  "kernelspec": {
   "display_name": "Python 3",
   "language": "python",
   "name": "python3"
  },
  "language_info": {
   "codemirror_mode": {
    "name": "ipython",
    "version": 3
   },
   "file_extension": ".py",
   "mimetype": "text/x-python",
   "name": "python",
   "nbconvert_exporter": "python",
   "pygments_lexer": "ipython3",
   "version": "3.7.6"
  }
 },
 "nbformat": 4,
 "nbformat_minor": 4
}
